{
 "cells": [
  {
   "cell_type": "markdown",
   "id": "signed-ghana",
   "metadata": {},
   "source": [
    "## 1. Module Import, Select Device, and Download MNIST Data"
   ]
  },
  {
   "cell_type": "markdown",
   "id": "herbal-characteristic",
   "metadata": {},
   "source": [
    "### 1-1. Setup & Module Import"
   ]
  },
  {
   "cell_type": "code",
   "execution_count": 1,
   "id": "fresh-carry",
   "metadata": {},
   "outputs": [
    {
     "name": "stdout",
     "output_type": "stream",
     "text": [
      "Collecting qiskit[visualization]\n",
      "  Using cached qiskit-0.23.5-py3-none-any.whl\n",
      "Collecting qiskit-ignis==0.5.2\n",
      "  Using cached qiskit_ignis-0.5.2-py3-none-any.whl (203 kB)\n",
      "Collecting qiskit-aer==0.7.4\n",
      "  Using cached qiskit_aer-0.7.4-cp38-cp38-manylinux2010_x86_64.whl (17.6 MB)\n",
      "Requirement already satisfied: qiskit-ibmq-provider==0.11.1 in /home/yunseo/anaconda3/envs/qiskit-hackathon/lib/python3.8/site-packages (from qiskit[visualization]) (0.11.1)\n",
      "Collecting qiskit-aqua==0.8.2\n",
      "  Using cached qiskit_aqua-0.8.2-py3-none-any.whl (2.1 MB)\n",
      "Collecting qiskit-terra==0.16.4\n",
      "  Using cached qiskit_terra-0.16.4-cp38-cp38-manylinux2010_x86_64.whl (8.6 MB)\n",
      "Requirement already satisfied: pylatexenc>=1.4 in /home/yunseo/anaconda3/envs/qiskit-hackathon/lib/python3.8/site-packages (from qiskit[visualization]) (2.8)\n",
      "Requirement already satisfied: matplotlib>=2.1 in /home/yunseo/anaconda3/envs/qiskit-hackathon/lib/python3.8/site-packages (from qiskit[visualization]) (3.3.4)\n",
      "Requirement already satisfied: pygments>=2.4 in /home/yunseo/anaconda3/envs/qiskit-hackathon/lib/python3.8/site-packages (from qiskit[visualization]) (2.7.4)\n",
      "Requirement already satisfied: ipywidgets>=7.3.0 in /home/yunseo/anaconda3/envs/qiskit-hackathon/lib/python3.8/site-packages (from qiskit[visualization]) (7.6.3)\n",
      "Requirement already satisfied: seaborn>=0.9.0 in /home/yunseo/anaconda3/envs/qiskit-hackathon/lib/python3.8/site-packages (from qiskit[visualization]) (0.11.1)\n",
      "Requirement already satisfied: pydot in /home/yunseo/anaconda3/envs/qiskit-hackathon/lib/python3.8/site-packages (from qiskit[visualization]) (1.4.2)\n",
      "Requirement already satisfied: pillow>=4.2.1 in /home/yunseo/anaconda3/envs/qiskit-hackathon/lib/python3.8/site-packages (from qiskit[visualization]) (8.1.0)\n",
      "Requirement already satisfied: numpy>=1.16.3 in /home/yunseo/anaconda3/envs/qiskit-hackathon/lib/python3.8/site-packages (from qiskit-aer==0.7.4->qiskit[visualization]) (1.18.5)\n",
      "Requirement already satisfied: cython>=0.27.1 in /home/yunseo/anaconda3/envs/qiskit-hackathon/lib/python3.8/site-packages (from qiskit-aer==0.7.4->qiskit[visualization]) (0.29.21)\n",
      "Requirement already satisfied: pybind11>=2.4 in /home/yunseo/anaconda3/envs/qiskit-hackathon/lib/python3.8/site-packages (from qiskit-aer==0.7.4->qiskit[visualization]) (2.6.2)\n",
      "Requirement already satisfied: scipy>=1.0 in /home/yunseo/anaconda3/envs/qiskit-hackathon/lib/python3.8/site-packages (from qiskit-aer==0.7.4->qiskit[visualization]) (1.6.0)\n",
      "Requirement already satisfied: h5py in /home/yunseo/anaconda3/envs/qiskit-hackathon/lib/python3.8/site-packages (from qiskit-aqua==0.8.2->qiskit[visualization]) (2.10.0)\n",
      "Requirement already satisfied: yfinance in /home/yunseo/anaconda3/envs/qiskit-hackathon/lib/python3.8/site-packages (from qiskit-aqua==0.8.2->qiskit[visualization]) (0.1.55)\n",
      "Requirement already satisfied: fastdtw in /home/yunseo/anaconda3/envs/qiskit-hackathon/lib/python3.8/site-packages (from qiskit-aqua==0.8.2->qiskit[visualization]) (0.3.4)\n",
      "Requirement already satisfied: psutil>=5 in /home/yunseo/anaconda3/envs/qiskit-hackathon/lib/python3.8/site-packages (from qiskit-aqua==0.8.2->qiskit[visualization]) (5.8.0)\n",
      "Requirement already satisfied: retworkx>=0.5.0 in /home/yunseo/anaconda3/envs/qiskit-hackathon/lib/python3.8/site-packages (from qiskit-aqua==0.8.2->qiskit[visualization]) (0.7.2)\n",
      "Requirement already satisfied: quandl in /home/yunseo/anaconda3/envs/qiskit-hackathon/lib/python3.8/site-packages (from qiskit-aqua==0.8.2->qiskit[visualization]) (3.6.0)\n",
      "Requirement already satisfied: docplex==2.15.194 in /home/yunseo/anaconda3/envs/qiskit-hackathon/lib/python3.8/site-packages (from qiskit-aqua==0.8.2->qiskit[visualization]) (2.15.194)\n",
      "Requirement already satisfied: sympy>=1.3 in /home/yunseo/anaconda3/envs/qiskit-hackathon/lib/python3.8/site-packages (from qiskit-aqua==0.8.2->qiskit[visualization]) (1.5)\n",
      "Requirement already satisfied: pandas in /home/yunseo/anaconda3/envs/qiskit-hackathon/lib/python3.8/site-packages (from qiskit-aqua==0.8.2->qiskit[visualization]) (1.2.2)\n",
      "Requirement already satisfied: dlx in /home/yunseo/anaconda3/envs/qiskit-hackathon/lib/python3.8/site-packages (from qiskit-aqua==0.8.2->qiskit[visualization]) (1.0.4)\n",
      "Requirement already satisfied: setuptools>=40.1.0 in /home/yunseo/anaconda3/envs/qiskit-hackathon/lib/python3.8/site-packages (from qiskit-aqua==0.8.2->qiskit[visualization]) (52.0.0.post20210125)\n",
      "Requirement already satisfied: scikit-learn>=0.20.0 in /home/yunseo/anaconda3/envs/qiskit-hackathon/lib/python3.8/site-packages (from qiskit-aqua==0.8.2->qiskit[visualization]) (0.24.1)\n",
      "Requirement already satisfied: requests in /home/yunseo/anaconda3/envs/qiskit-hackathon/lib/python3.8/site-packages (from docplex==2.15.194->qiskit-aqua==0.8.2->qiskit[visualization]) (2.25.1)\n",
      "Requirement already satisfied: six in /home/yunseo/anaconda3/envs/qiskit-hackathon/lib/python3.8/site-packages (from docplex==2.15.194->qiskit-aqua==0.8.2->qiskit[visualization]) (1.15.0)\n",
      "Requirement already satisfied: websockets>=8 in /home/yunseo/anaconda3/envs/qiskit-hackathon/lib/python3.8/site-packages (from qiskit-ibmq-provider==0.11.1->qiskit[visualization]) (8.1)\n",
      "Requirement already satisfied: requests-ntlm>=1.1.0 in /home/yunseo/anaconda3/envs/qiskit-hackathon/lib/python3.8/site-packages (from qiskit-ibmq-provider==0.11.1->qiskit[visualization]) (1.1.0)\n",
      "Requirement already satisfied: python-dateutil>=2.8.0 in /home/yunseo/anaconda3/envs/qiskit-hackathon/lib/python3.8/site-packages (from qiskit-ibmq-provider==0.11.1->qiskit[visualization]) (2.8.1)\n",
      "Requirement already satisfied: urllib3>=1.21.1 in /home/yunseo/anaconda3/envs/qiskit-hackathon/lib/python3.8/site-packages (from qiskit-ibmq-provider==0.11.1->qiskit[visualization]) (1.26.3)\n",
      "Requirement already satisfied: nest-asyncio!=1.1.0,>=1.0.0 in /home/yunseo/anaconda3/envs/qiskit-hackathon/lib/python3.8/site-packages (from qiskit-ibmq-provider==0.11.1->qiskit[visualization]) (1.4.3)\n",
      "Requirement already satisfied: networkx>=2.2 in /home/yunseo/anaconda3/envs/qiskit-hackathon/lib/python3.8/site-packages (from qiskit-ignis==0.5.2->qiskit[visualization]) (2.5)\n",
      "Requirement already satisfied: dill>=0.3 in /home/yunseo/anaconda3/envs/qiskit-hackathon/lib/python3.8/site-packages (from qiskit-terra==0.16.4->qiskit[visualization]) (0.3.3)\n",
      "Requirement already satisfied: ply>=3.10 in /home/yunseo/anaconda3/envs/qiskit-hackathon/lib/python3.8/site-packages (from qiskit-terra==0.16.4->qiskit[visualization]) (3.11)\n",
      "Requirement already satisfied: fastjsonschema>=2.10 in /home/yunseo/anaconda3/envs/qiskit-hackathon/lib/python3.8/site-packages (from qiskit-terra==0.16.4->qiskit[visualization]) (2.15.0)\n",
      "Requirement already satisfied: python-constraint>=1.4 in /home/yunseo/anaconda3/envs/qiskit-hackathon/lib/python3.8/site-packages (from qiskit-terra==0.16.4->qiskit[visualization]) (1.4.0)\n",
      "Requirement already satisfied: jsonschema>=2.6 in /home/yunseo/anaconda3/envs/qiskit-hackathon/lib/python3.8/site-packages (from qiskit-terra==0.16.4->qiskit[visualization]) (3.2.0)\n",
      "Requirement already satisfied: jupyterlab-widgets>=1.0.0 in /home/yunseo/anaconda3/envs/qiskit-hackathon/lib/python3.8/site-packages (from ipywidgets>=7.3.0->qiskit[visualization]) (1.0.0)\n",
      "Requirement already satisfied: nbformat>=4.2.0 in /home/yunseo/anaconda3/envs/qiskit-hackathon/lib/python3.8/site-packages (from ipywidgets>=7.3.0->qiskit[visualization]) (5.1.2)\n",
      "Requirement already satisfied: widgetsnbextension~=3.5.0 in /home/yunseo/anaconda3/envs/qiskit-hackathon/lib/python3.8/site-packages (from ipywidgets>=7.3.0->qiskit[visualization]) (3.5.1)\n",
      "Requirement already satisfied: traitlets>=4.3.1 in /home/yunseo/anaconda3/envs/qiskit-hackathon/lib/python3.8/site-packages (from ipywidgets>=7.3.0->qiskit[visualization]) (5.0.5)\n",
      "Requirement already satisfied: ipykernel>=4.5.1 in /home/yunseo/anaconda3/envs/qiskit-hackathon/lib/python3.8/site-packages (from ipywidgets>=7.3.0->qiskit[visualization]) (5.3.4)\n",
      "Requirement already satisfied: ipython>=4.0.0 in /home/yunseo/anaconda3/envs/qiskit-hackathon/lib/python3.8/site-packages (from ipywidgets>=7.3.0->qiskit[visualization]) (7.20.0)\n",
      "Requirement already satisfied: tornado>=4.2 in /home/yunseo/anaconda3/envs/qiskit-hackathon/lib/python3.8/site-packages (from ipykernel>=4.5.1->ipywidgets>=7.3.0->qiskit[visualization]) (6.1)\n",
      "Requirement already satisfied: jupyter-client in /home/yunseo/anaconda3/envs/qiskit-hackathon/lib/python3.8/site-packages (from ipykernel>=4.5.1->ipywidgets>=7.3.0->qiskit[visualization]) (6.1.7)\n",
      "Requirement already satisfied: pexpect>4.3 in /home/yunseo/anaconda3/envs/qiskit-hackathon/lib/python3.8/site-packages (from ipython>=4.0.0->ipywidgets>=7.3.0->qiskit[visualization]) (4.8.0)\n",
      "Requirement already satisfied: backcall in /home/yunseo/anaconda3/envs/qiskit-hackathon/lib/python3.8/site-packages (from ipython>=4.0.0->ipywidgets>=7.3.0->qiskit[visualization]) (0.2.0)\n",
      "Requirement already satisfied: pickleshare in /home/yunseo/anaconda3/envs/qiskit-hackathon/lib/python3.8/site-packages (from ipython>=4.0.0->ipywidgets>=7.3.0->qiskit[visualization]) (0.7.5)\n",
      "Requirement already satisfied: decorator in /home/yunseo/anaconda3/envs/qiskit-hackathon/lib/python3.8/site-packages (from ipython>=4.0.0->ipywidgets>=7.3.0->qiskit[visualization]) (4.4.2)\n",
      "Requirement already satisfied: prompt-toolkit!=3.0.0,!=3.0.1,<3.1.0,>=2.0.0 in /home/yunseo/anaconda3/envs/qiskit-hackathon/lib/python3.8/site-packages (from ipython>=4.0.0->ipywidgets>=7.3.0->qiskit[visualization]) (3.0.8)\n",
      "Requirement already satisfied: jedi>=0.16 in /home/yunseo/anaconda3/envs/qiskit-hackathon/lib/python3.8/site-packages (from ipython>=4.0.0->ipywidgets>=7.3.0->qiskit[visualization]) (0.17.0)\n",
      "Requirement already satisfied: parso>=0.7.0 in /home/yunseo/anaconda3/envs/qiskit-hackathon/lib/python3.8/site-packages (from jedi>=0.16->ipython>=4.0.0->ipywidgets>=7.3.0->qiskit[visualization]) (0.8.1)\n"
     ]
    },
    {
     "name": "stdout",
     "output_type": "stream",
     "text": [
      "Requirement already satisfied: attrs>=17.4.0 in /home/yunseo/anaconda3/envs/qiskit-hackathon/lib/python3.8/site-packages (from jsonschema>=2.6->qiskit-terra==0.16.4->qiskit[visualization]) (20.3.0)\n",
      "Requirement already satisfied: pyrsistent>=0.14.0 in /home/yunseo/anaconda3/envs/qiskit-hackathon/lib/python3.8/site-packages (from jsonschema>=2.6->qiskit-terra==0.16.4->qiskit[visualization]) (0.17.3)\n",
      "Requirement already satisfied: cycler>=0.10 in /home/yunseo/anaconda3/envs/qiskit-hackathon/lib/python3.8/site-packages (from matplotlib>=2.1->qiskit[visualization]) (0.10.0)\n",
      "Requirement already satisfied: pyparsing!=2.0.4,!=2.1.2,!=2.1.6,>=2.0.3 in /home/yunseo/anaconda3/envs/qiskit-hackathon/lib/python3.8/site-packages (from matplotlib>=2.1->qiskit[visualization]) (2.4.7)\n",
      "Requirement already satisfied: kiwisolver>=1.0.1 in /home/yunseo/anaconda3/envs/qiskit-hackathon/lib/python3.8/site-packages (from matplotlib>=2.1->qiskit[visualization]) (1.3.1)\n",
      "Requirement already satisfied: jupyter-core in /home/yunseo/anaconda3/envs/qiskit-hackathon/lib/python3.8/site-packages (from nbformat>=4.2.0->ipywidgets>=7.3.0->qiskit[visualization]) (4.7.1)\n",
      "Requirement already satisfied: ipython-genutils in /home/yunseo/anaconda3/envs/qiskit-hackathon/lib/python3.8/site-packages (from nbformat>=4.2.0->ipywidgets>=7.3.0->qiskit[visualization]) (0.2.0)\n",
      "Requirement already satisfied: ptyprocess>=0.5 in /home/yunseo/anaconda3/envs/qiskit-hackathon/lib/python3.8/site-packages (from pexpect>4.3->ipython>=4.0.0->ipywidgets>=7.3.0->qiskit[visualization]) (0.7.0)\n",
      "Requirement already satisfied: wcwidth in /home/yunseo/anaconda3/envs/qiskit-hackathon/lib/python3.8/site-packages (from prompt-toolkit!=3.0.0,!=3.0.1,<3.1.0,>=2.0.0->ipython>=4.0.0->ipywidgets>=7.3.0->qiskit[visualization]) (0.2.5)\n",
      "Requirement already satisfied: chardet<5,>=3.0.2 in /home/yunseo/anaconda3/envs/qiskit-hackathon/lib/python3.8/site-packages (from requests->docplex==2.15.194->qiskit-aqua==0.8.2->qiskit[visualization]) (4.0.0)\n",
      "Requirement already satisfied: idna<3,>=2.5 in /home/yunseo/anaconda3/envs/qiskit-hackathon/lib/python3.8/site-packages (from requests->docplex==2.15.194->qiskit-aqua==0.8.2->qiskit[visualization]) (2.10)\n",
      "Requirement already satisfied: certifi>=2017.4.17 in /home/yunseo/anaconda3/envs/qiskit-hackathon/lib/python3.8/site-packages (from requests->docplex==2.15.194->qiskit-aqua==0.8.2->qiskit[visualization]) (2020.12.5)\n",
      "Requirement already satisfied: cryptography>=1.3 in /home/yunseo/anaconda3/envs/qiskit-hackathon/lib/python3.8/site-packages (from requests-ntlm>=1.1.0->qiskit-ibmq-provider==0.11.1->qiskit[visualization]) (3.4.6)\n",
      "Requirement already satisfied: ntlm-auth>=1.0.2 in /home/yunseo/anaconda3/envs/qiskit-hackathon/lib/python3.8/site-packages (from requests-ntlm>=1.1.0->qiskit-ibmq-provider==0.11.1->qiskit[visualization]) (1.5.0)\n",
      "Requirement already satisfied: cffi>=1.12 in /home/yunseo/anaconda3/envs/qiskit-hackathon/lib/python3.8/site-packages (from cryptography>=1.3->requests-ntlm>=1.1.0->qiskit-ibmq-provider==0.11.1->qiskit[visualization]) (1.14.5)\n",
      "Requirement already satisfied: pycparser in /home/yunseo/anaconda3/envs/qiskit-hackathon/lib/python3.8/site-packages (from cffi>=1.12->cryptography>=1.3->requests-ntlm>=1.1.0->qiskit-ibmq-provider==0.11.1->qiskit[visualization]) (2.20)\n",
      "Requirement already satisfied: joblib>=0.11 in /home/yunseo/anaconda3/envs/qiskit-hackathon/lib/python3.8/site-packages (from scikit-learn>=0.20.0->qiskit-aqua==0.8.2->qiskit[visualization]) (1.0.1)\n",
      "Requirement already satisfied: threadpoolctl>=2.0.0 in /home/yunseo/anaconda3/envs/qiskit-hackathon/lib/python3.8/site-packages (from scikit-learn>=0.20.0->qiskit-aqua==0.8.2->qiskit[visualization]) (2.1.0)\n",
      "Requirement already satisfied: pytz>=2017.3 in /home/yunseo/anaconda3/envs/qiskit-hackathon/lib/python3.8/site-packages (from pandas->qiskit-aqua==0.8.2->qiskit[visualization]) (2021.1)\n",
      "Requirement already satisfied: mpmath>=0.19 in /home/yunseo/anaconda3/envs/qiskit-hackathon/lib/python3.8/site-packages (from sympy>=1.3->qiskit-aqua==0.8.2->qiskit[visualization]) (1.2.1)\n",
      "Requirement already satisfied: notebook>=4.4.1 in /home/yunseo/anaconda3/envs/qiskit-hackathon/lib/python3.8/site-packages (from widgetsnbextension~=3.5.0->ipywidgets>=7.3.0->qiskit[visualization]) (6.2.0)\n",
      "Requirement already satisfied: terminado>=0.8.3 in /home/yunseo/anaconda3/envs/qiskit-hackathon/lib/python3.8/site-packages (from notebook>=4.4.1->widgetsnbextension~=3.5.0->ipywidgets>=7.3.0->qiskit[visualization]) (0.9.2)\n",
      "Requirement already satisfied: jinja2 in /home/yunseo/anaconda3/envs/qiskit-hackathon/lib/python3.8/site-packages (from notebook>=4.4.1->widgetsnbextension~=3.5.0->ipywidgets>=7.3.0->qiskit[visualization]) (2.11.3)\n",
      "Requirement already satisfied: nbconvert in /home/yunseo/anaconda3/envs/qiskit-hackathon/lib/python3.8/site-packages (from notebook>=4.4.1->widgetsnbextension~=3.5.0->ipywidgets>=7.3.0->qiskit[visualization]) (6.0.7)\n",
      "Requirement already satisfied: Send2Trash>=1.5.0 in /home/yunseo/anaconda3/envs/qiskit-hackathon/lib/python3.8/site-packages (from notebook>=4.4.1->widgetsnbextension~=3.5.0->ipywidgets>=7.3.0->qiskit[visualization]) (1.5.0)\n",
      "Requirement already satisfied: argon2-cffi in /home/yunseo/anaconda3/envs/qiskit-hackathon/lib/python3.8/site-packages (from notebook>=4.4.1->widgetsnbextension~=3.5.0->ipywidgets>=7.3.0->qiskit[visualization]) (20.1.0)\n",
      "Requirement already satisfied: prometheus-client in /home/yunseo/anaconda3/envs/qiskit-hackathon/lib/python3.8/site-packages (from notebook>=4.4.1->widgetsnbextension~=3.5.0->ipywidgets>=7.3.0->qiskit[visualization]) (0.9.0)\n",
      "Requirement already satisfied: pyzmq>=17 in /home/yunseo/anaconda3/envs/qiskit-hackathon/lib/python3.8/site-packages (from notebook>=4.4.1->widgetsnbextension~=3.5.0->ipywidgets>=7.3.0->qiskit[visualization]) (20.0.0)\n",
      "Requirement already satisfied: MarkupSafe>=0.23 in /home/yunseo/anaconda3/envs/qiskit-hackathon/lib/python3.8/site-packages (from jinja2->notebook>=4.4.1->widgetsnbextension~=3.5.0->ipywidgets>=7.3.0->qiskit[visualization]) (1.1.1)\n",
      "Requirement already satisfied: jupyterlab-pygments in /home/yunseo/anaconda3/envs/qiskit-hackathon/lib/python3.8/site-packages (from nbconvert->notebook>=4.4.1->widgetsnbextension~=3.5.0->ipywidgets>=7.3.0->qiskit[visualization]) (0.1.2)\n",
      "Requirement already satisfied: testpath in /home/yunseo/anaconda3/envs/qiskit-hackathon/lib/python3.8/site-packages (from nbconvert->notebook>=4.4.1->widgetsnbextension~=3.5.0->ipywidgets>=7.3.0->qiskit[visualization]) (0.4.4)\n",
      "Requirement already satisfied: bleach in /home/yunseo/anaconda3/envs/qiskit-hackathon/lib/python3.8/site-packages (from nbconvert->notebook>=4.4.1->widgetsnbextension~=3.5.0->ipywidgets>=7.3.0->qiskit[visualization]) (3.3.0)\n",
      "Requirement already satisfied: entrypoints>=0.2.2 in /home/yunseo/anaconda3/envs/qiskit-hackathon/lib/python3.8/site-packages (from nbconvert->notebook>=4.4.1->widgetsnbextension~=3.5.0->ipywidgets>=7.3.0->qiskit[visualization]) (0.3)\n",
      "Requirement already satisfied: defusedxml in /home/yunseo/anaconda3/envs/qiskit-hackathon/lib/python3.8/site-packages (from nbconvert->notebook>=4.4.1->widgetsnbextension~=3.5.0->ipywidgets>=7.3.0->qiskit[visualization]) (0.6.0)\n",
      "Requirement already satisfied: nbclient<0.6.0,>=0.5.0 in /home/yunseo/anaconda3/envs/qiskit-hackathon/lib/python3.8/site-packages (from nbconvert->notebook>=4.4.1->widgetsnbextension~=3.5.0->ipywidgets>=7.3.0->qiskit[visualization]) (0.5.1)\n",
      "Requirement already satisfied: pandocfilters>=1.4.1 in /home/yunseo/anaconda3/envs/qiskit-hackathon/lib/python3.8/site-packages (from nbconvert->notebook>=4.4.1->widgetsnbextension~=3.5.0->ipywidgets>=7.3.0->qiskit[visualization]) (1.4.3)\n",
      "Requirement already satisfied: mistune<2,>=0.8.1 in /home/yunseo/anaconda3/envs/qiskit-hackathon/lib/python3.8/site-packages (from nbconvert->notebook>=4.4.1->widgetsnbextension~=3.5.0->ipywidgets>=7.3.0->qiskit[visualization]) (0.8.4)\n",
      "Requirement already satisfied: async-generator in /home/yunseo/anaconda3/envs/qiskit-hackathon/lib/python3.8/site-packages (from nbclient<0.6.0,>=0.5.0->nbconvert->notebook>=4.4.1->widgetsnbextension~=3.5.0->ipywidgets>=7.3.0->qiskit[visualization]) (1.10)\n"
     ]
    },
    {
     "name": "stdout",
     "output_type": "stream",
     "text": [
      "Requirement already satisfied: webencodings in /home/yunseo/anaconda3/envs/qiskit-hackathon/lib/python3.8/site-packages (from bleach->nbconvert->notebook>=4.4.1->widgetsnbextension~=3.5.0->ipywidgets>=7.3.0->qiskit[visualization]) (0.5.1)\n",
      "Requirement already satisfied: packaging in /home/yunseo/anaconda3/envs/qiskit-hackathon/lib/python3.8/site-packages (from bleach->nbconvert->notebook>=4.4.1->widgetsnbextension~=3.5.0->ipywidgets>=7.3.0->qiskit[visualization]) (20.9)\n",
      "Requirement already satisfied: inflection>=0.3.1 in /home/yunseo/anaconda3/envs/qiskit-hackathon/lib/python3.8/site-packages (from quandl->qiskit-aqua==0.8.2->qiskit[visualization]) (0.5.1)\n",
      "Requirement already satisfied: more-itertools in /home/yunseo/anaconda3/envs/qiskit-hackathon/lib/python3.8/site-packages (from quandl->qiskit-aqua==0.8.2->qiskit[visualization]) (8.7.0)\n",
      "Requirement already satisfied: multitasking>=0.0.7 in /home/yunseo/anaconda3/envs/qiskit-hackathon/lib/python3.8/site-packages (from yfinance->qiskit-aqua==0.8.2->qiskit[visualization]) (0.0.9)\n",
      "Requirement already satisfied: lxml>=4.5.1 in /home/yunseo/anaconda3/envs/qiskit-hackathon/lib/python3.8/site-packages (from yfinance->qiskit-aqua==0.8.2->qiskit[visualization]) (4.6.2)\n",
      "Installing collected packages: qiskit-terra, qiskit-ignis, qiskit-aqua, qiskit-aer, qiskit\n",
      "Successfully installed qiskit-0.23.5 qiskit-aer-0.7.4 qiskit-aqua-0.8.2 qiskit-ignis-0.5.2 qiskit-terra-0.16.4\n"
     ]
    }
   ],
   "source": [
    "!pip install -U qiskit[visualization]"
   ]
  },
  {
   "cell_type": "code",
   "execution_count": 10,
   "id": "rolled-russell",
   "metadata": {},
   "outputs": [],
   "source": [
    "# !pip install qiskit[visualization]\n",
    "import qiskit\n",
    "from qiskit.visualization import *\n",
    "\n",
    "import numpy as np\n",
    "import matplotlib.pyplot as plt\n",
    "\n",
    "import torch\n",
    "from torch.autograd import Function\n",
    "from torchvision import datasets, transforms\n",
    "import torch.optim as optim\n",
    "import torch.nn as nn\n",
    "import torch.nn.functional as F\n",
    "\n",
    "from itertools import combinations"
   ]
  },
  {
   "cell_type": "markdown",
   "id": "supposed-treasure",
   "metadata": {},
   "source": [
    "### 1-2. Select Device"
   ]
  },
  {
   "cell_type": "code",
   "execution_count": 11,
   "id": "worthy-maria",
   "metadata": {},
   "outputs": [
    {
     "output_type": "stream",
     "name": "stdout",
     "text": [
      "Using PyTorch version: 1.7.1  Device: cuda\ncuda index: 0\nGPU 이름: GeForce RTX 3070\n"
     ]
    }
   ],
   "source": [
    "if torch.cuda.is_available():\n",
    "    DEVICE = torch.device('cuda')\n",
    "else:\n",
    "    DEVICE = torch.device('cpu')\n",
    "print('Using PyTorch version:', torch.__version__, ' Device:', DEVICE)\n",
    "print('cuda index:', torch.cuda.current_device())\n",
    "print('GPU 이름:', torch.cuda.get_device_name())"
   ]
  },
  {
   "cell_type": "markdown",
   "id": "surprising-drove",
   "metadata": {},
   "source": [
    "### 1-3. Setting of the main hyper-parameters of the model"
   ]
  },
  {
   "cell_type": "code",
   "execution_count": 12,
   "id": "manufactured-temple",
   "metadata": {},
   "outputs": [
    {
     "output_type": "execute_result",
     "data": {
      "text/plain": [
       "<torch._C.Generator at 0x7f7201929670>"
      ]
     },
     "metadata": {},
     "execution_count": 12
    }
   ],
   "source": [
    "BATCH_SIZE = 256\n",
    "EPOCHS = 10     # Number of optimization epochs\n",
    "n_layers = 1    # Number of random layers\n",
    "n_train = 50    # Size of the train dataset\n",
    "n_test = 30     # Size of the test dataset\n",
    "\n",
    "SAVE_PATH = \"quanvolution/\" # Data saving folder\n",
    "PREPROCESS = True           # If False, skip quantum processing and load data from SAVE_PATH\n",
    "seed = 47\n",
    "np.random.seed(seed)        # Seed for NumPy random number generator\n",
    "torch.manual_seed(seed)     # Seed for TensorFlow random number generator"
   ]
  },
  {
   "cell_type": "markdown",
   "id": "aquatic-calendar",
   "metadata": {},
   "source": [
    "### 1-4. Data Loading"
   ]
  },
  {
   "cell_type": "code",
   "execution_count": 13,
   "id": "extensive-chance",
   "metadata": {},
   "outputs": [],
   "source": [
    "train_dataset = datasets.MNIST(root = \"./data\",\n",
    "                               train = True,\n",
    "                               download = True,\n",
    "                               transform = transforms.ToTensor())\n",
    "\n",
    "test_dataset = datasets.MNIST(root = \"./data\",\n",
    "                              train = False,\n",
    "                              transform = transforms.ToTensor())\n",
    "\n",
    "train_loader = torch.utils.data.DataLoader(dataset = train_dataset,\n",
    "                                           batch_size = BATCH_SIZE,\n",
    "                                           shuffle = True)\n",
    "\n",
    "test_loader = torch.utils.data.DataLoader(dataset = test_dataset,\n",
    "                                          batch_size = BATCH_SIZE,\n",
    "                                          shuffle = False)"
   ]
  },
  {
   "cell_type": "code",
   "execution_count": 8,
   "id": "aggregate-climate",
   "metadata": {},
   "outputs": [
    {
     "output_type": "stream",
     "name": "stdout",
     "text": [
      "X_train: torch.Size([256, 1, 28, 28]) type: torch.FloatTensor\ny_train: torch.Size([256]) type: torch.LongTensor\n"
     ]
    }
   ],
   "source": [
    "for (X_train, y_train) in train_loader:\n",
    "    print('X_train:', X_train.size(), 'type:', X_train.type())\n",
    "    print('y_train:', y_train.size(), 'type:', y_train.type())\n",
    "    break"
   ]
  },
  {
   "cell_type": "code",
   "execution_count": 9,
   "metadata": {},
   "outputs": [
    {
     "output_type": "display_data",
     "data": {
      "text/plain": "<Figure size 720x72 with 10 Axes>",
      "image/svg+xml": "<?xml version=\"1.0\" encoding=\"utf-8\" standalone=\"no\"?>\n<!DOCTYPE svg PUBLIC \"-//W3C//DTD SVG 1.1//EN\"\n  \"http://www.w3.org/Graphics/SVG/1.1/DTD/svg11.dtd\">\n<!-- Created with matplotlib (https://matplotlib.org/) -->\n<svg height=\"76.806261pt\" version=\"1.1\" viewBox=\"0 0 572.4 76.806261\" width=\"572.4pt\" xmlns=\"http://www.w3.org/2000/svg\" xmlns:xlink=\"http://www.w3.org/1999/xlink\">\n <metadata>\n  <rdf:RDF xmlns:cc=\"http://creativecommons.org/ns#\" xmlns:dc=\"http://purl.org/dc/elements/1.1/\" xmlns:rdf=\"http://www.w3.org/1999/02/22-rdf-syntax-ns#\">\n   <cc:Work>\n    <dc:type rdf:resource=\"http://purl.org/dc/dcmitype/StillImage\"/>\n    <dc:date>2021-02-18T20:16:03.018972</dc:date>\n    <dc:format>image/svg+xml</dc:format>\n    <dc:creator>\n     <cc:Agent>\n      <dc:title>Matplotlib v3.3.4, https://matplotlib.org/</dc:title>\n     </cc:Agent>\n    </dc:creator>\n   </cc:Work>\n  </rdf:RDF>\n </metadata>\n <defs>\n  <style type=\"text/css\">*{stroke-linecap:butt;stroke-linejoin:round;}</style>\n </defs>\n <g id=\"figure_1\">\n  <g id=\"patch_1\">\n   <path d=\"M 0 76.806261 \nL 572.4 76.806261 \nL 572.4 0 \nL 0 0 \nz\n\" style=\"fill:none;\"/>\n  </g>\n  <g id=\"axes_1\">\n   <g clip-path=\"url(#p7dd2eb819c)\">\n    <image height=\"48\" id=\"imagefacf9e7706\" transform=\"scale(1 -1)translate(0 -48)\" width=\"48\" x=\"7.2\" xlink:href=\"data:image/png;base64,\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\" y=\"-21.606261\"/>\n   </g>\n   <g id=\"text_1\">\n    <!-- Class: 0 -->\n    <g transform=\"translate(7.313755 16.318125)scale(0.12 -0.12)\">\n     <defs>\n      <path d=\"M 64.40625 67.28125 \nL 64.40625 56.890625 \nQ 59.421875 61.53125 53.78125 63.8125 \nQ 48.140625 66.109375 41.796875 66.109375 \nQ 29.296875 66.109375 22.65625 58.46875 \nQ 16.015625 50.828125 16.015625 36.375 \nQ 16.015625 21.96875 22.65625 14.328125 \nQ 29.296875 6.6875 41.796875 6.6875 \nQ 48.140625 6.6875 53.78125 8.984375 \nQ 59.421875 11.28125 64.40625 15.921875 \nL 64.40625 5.609375 \nQ 59.234375 2.09375 53.4375 0.328125 \nQ 47.65625 -1.421875 41.21875 -1.421875 \nQ 24.65625 -1.421875 15.125 8.703125 \nQ 5.609375 18.84375 5.609375 36.375 \nQ 5.609375 53.953125 15.125 64.078125 \nQ 24.65625 74.21875 41.21875 74.21875 \nQ 47.75 74.21875 53.53125 72.484375 \nQ 59.328125 70.75 64.40625 67.28125 \nz\n\" id=\"DejaVuSans-67\"/>\n      <path d=\"M 9.421875 75.984375 \nL 18.40625 75.984375 \nL 18.40625 0 \nL 9.421875 0 \nz\n\" id=\"DejaVuSans-108\"/>\n      <path d=\"M 34.28125 27.484375 \nQ 23.390625 27.484375 19.1875 25 \nQ 14.984375 22.515625 14.984375 16.5 \nQ 14.984375 11.71875 18.140625 8.90625 \nQ 21.296875 6.109375 26.703125 6.109375 \nQ 34.1875 6.109375 38.703125 11.40625 \nQ 43.21875 16.703125 43.21875 25.484375 \nL 43.21875 27.484375 \nz\nM 52.203125 31.203125 \nL 52.203125 0 \nL 43.21875 0 \nL 43.21875 8.296875 \nQ 40.140625 3.328125 35.546875 0.953125 \nQ 30.953125 -1.421875 24.3125 -1.421875 \nQ 15.921875 -1.421875 10.953125 3.296875 \nQ 6 8.015625 6 15.921875 \nQ 6 25.140625 12.171875 29.828125 \nQ 18.359375 34.515625 30.609375 34.515625 \nL 43.21875 34.515625 \nL 43.21875 35.40625 \nQ 43.21875 41.609375 39.140625 45 \nQ 35.0625 48.390625 27.6875 48.390625 \nQ 23 48.390625 18.546875 47.265625 \nQ 14.109375 46.140625 10.015625 43.890625 \nL 10.015625 52.203125 \nQ 14.9375 54.109375 19.578125 55.046875 \nQ 24.21875 56 28.609375 56 \nQ 40.484375 56 46.34375 49.84375 \nQ 52.203125 43.703125 52.203125 31.203125 \nz\n\" id=\"DejaVuSans-97\"/>\n      <path d=\"M 44.28125 53.078125 \nL 44.28125 44.578125 \nQ 40.484375 46.53125 36.375 47.5 \nQ 32.28125 48.484375 27.875 48.484375 \nQ 21.1875 48.484375 17.84375 46.4375 \nQ 14.5 44.390625 14.5 40.28125 \nQ 14.5 37.15625 16.890625 35.375 \nQ 19.28125 33.59375 26.515625 31.984375 \nL 29.59375 31.296875 \nQ 39.15625 29.25 43.1875 25.515625 \nQ 47.21875 21.78125 47.21875 15.09375 \nQ 47.21875 7.46875 41.1875 3.015625 \nQ 35.15625 -1.421875 24.609375 -1.421875 \nQ 20.21875 -1.421875 15.453125 -0.5625 \nQ 10.6875 0.296875 5.421875 2 \nL 5.421875 11.28125 \nQ 10.40625 8.6875 15.234375 7.390625 \nQ 20.0625 6.109375 24.8125 6.109375 \nQ 31.15625 6.109375 34.5625 8.28125 \nQ 37.984375 10.453125 37.984375 14.40625 \nQ 37.984375 18.0625 35.515625 20.015625 \nQ 33.0625 21.96875 24.703125 23.78125 \nL 21.578125 24.515625 \nQ 13.234375 26.265625 9.515625 29.90625 \nQ 5.8125 33.546875 5.8125 39.890625 \nQ 5.8125 47.609375 11.28125 51.796875 \nQ 16.75 56 26.8125 56 \nQ 31.78125 56 36.171875 55.265625 \nQ 40.578125 54.546875 44.28125 53.078125 \nz\n\" id=\"DejaVuSans-115\"/>\n      <path d=\"M 11.71875 12.40625 \nL 22.015625 12.40625 \nL 22.015625 0 \nL 11.71875 0 \nz\nM 11.71875 51.703125 \nL 22.015625 51.703125 \nL 22.015625 39.3125 \nL 11.71875 39.3125 \nz\n\" id=\"DejaVuSans-58\"/>\n      <path id=\"DejaVuSans-32\"/>\n      <path d=\"M 31.78125 66.40625 \nQ 24.171875 66.40625 20.328125 58.90625 \nQ 16.5 51.421875 16.5 36.375 \nQ 16.5 21.390625 20.328125 13.890625 \nQ 24.171875 6.390625 31.78125 6.390625 \nQ 39.453125 6.390625 43.28125 13.890625 \nQ 47.125 21.390625 47.125 36.375 \nQ 47.125 51.421875 43.28125 58.90625 \nQ 39.453125 66.40625 31.78125 66.40625 \nz\nM 31.78125 74.21875 \nQ 44.046875 74.21875 50.515625 64.515625 \nQ 56.984375 54.828125 56.984375 36.375 \nQ 56.984375 17.96875 50.515625 8.265625 \nQ 44.046875 -1.421875 31.78125 -1.421875 \nQ 19.53125 -1.421875 13.0625 8.265625 \nQ 6.59375 17.96875 6.59375 36.375 \nQ 6.59375 54.828125 13.0625 64.515625 \nQ 19.53125 74.21875 31.78125 74.21875 \nz\n\" id=\"DejaVuSans-48\"/>\n     </defs>\n     <use xlink:href=\"#DejaVuSans-67\"/>\n     <use x=\"69.824219\" xlink:href=\"#DejaVuSans-108\"/>\n     <use x=\"97.607422\" xlink:href=\"#DejaVuSans-97\"/>\n     <use x=\"158.886719\" xlink:href=\"#DejaVuSans-115\"/>\n     <use x=\"210.986328\" xlink:href=\"#DejaVuSans-115\"/>\n     <use x=\"263.085938\" xlink:href=\"#DejaVuSans-58\"/>\n     <use x=\"296.777344\" xlink:href=\"#DejaVuSans-32\"/>\n     <use x=\"328.564453\" xlink:href=\"#DejaVuSans-48\"/>\n    </g>\n   </g>\n  </g>\n  <g id=\"axes_2\">\n   <g clip-path=\"url(#p3c38777c36)\">\n    <image height=\"48\" id=\"image93b1b903de\" transform=\"scale(1 -1)translate(0 -48)\" width=\"48\" x=\"63.945763\" xlink:href=\"data:image/png;base64,\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\" y=\"-21.606261\"/>\n   </g>\n   <g id=\"text_2\">\n    <!-- Class: 5 -->\n    <g transform=\"translate(64.059518 16.318125)scale(0.12 -0.12)\">\n     <defs>\n      <path d=\"M 10.796875 72.90625 \nL 49.515625 72.90625 \nL 49.515625 64.59375 \nL 19.828125 64.59375 \nL 19.828125 46.734375 \nQ 21.96875 47.46875 24.109375 47.828125 \nQ 26.265625 48.1875 28.421875 48.1875 \nQ 40.625 48.1875 47.75 41.5 \nQ 54.890625 34.8125 54.890625 23.390625 \nQ 54.890625 11.625 47.5625 5.09375 \nQ 40.234375 -1.421875 26.90625 -1.421875 \nQ 22.3125 -1.421875 17.546875 -0.640625 \nQ 12.796875 0.140625 7.71875 1.703125 \nL 7.71875 11.625 \nQ 12.109375 9.234375 16.796875 8.0625 \nQ 21.484375 6.890625 26.703125 6.890625 \nQ 35.15625 6.890625 40.078125 11.328125 \nQ 45.015625 15.765625 45.015625 23.390625 \nQ 45.015625 31 40.078125 35.4375 \nQ 35.15625 39.890625 26.703125 39.890625 \nQ 22.75 39.890625 18.8125 39.015625 \nQ 14.890625 38.140625 10.796875 36.28125 \nz\n\" id=\"DejaVuSans-53\"/>\n     </defs>\n     <use xlink:href=\"#DejaVuSans-67\"/>\n     <use x=\"69.824219\" xlink:href=\"#DejaVuSans-108\"/>\n     <use x=\"97.607422\" xlink:href=\"#DejaVuSans-97\"/>\n     <use x=\"158.886719\" xlink:href=\"#DejaVuSans-115\"/>\n     <use x=\"210.986328\" xlink:href=\"#DejaVuSans-115\"/>\n     <use x=\"263.085938\" xlink:href=\"#DejaVuSans-58\"/>\n     <use x=\"296.777344\" xlink:href=\"#DejaVuSans-32\"/>\n     <use x=\"328.564453\" xlink:href=\"#DejaVuSans-53\"/>\n    </g>\n   </g>\n  </g>\n  <g id=\"axes_3\">\n   <g clip-path=\"url(#pff88d94f90)\">\n    <image height=\"48\" id=\"image8cec463300\" transform=\"scale(1 -1)translate(0 -48)\" width=\"48\" x=\"120.691525\" xlink:href=\"data:image/png;base64,\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\" y=\"-21.606261\"/>\n   </g>\n   <g id=\"text_3\">\n    <!-- Class: 6 -->\n    <g transform=\"translate(120.805281 16.318125)scale(0.12 -0.12)\">\n     <defs>\n      <path d=\"M 33.015625 40.375 \nQ 26.375 40.375 22.484375 35.828125 \nQ 18.609375 31.296875 18.609375 23.390625 \nQ 18.609375 15.53125 22.484375 10.953125 \nQ 26.375 6.390625 33.015625 6.390625 \nQ 39.65625 6.390625 43.53125 10.953125 \nQ 47.40625 15.53125 47.40625 23.390625 \nQ 47.40625 31.296875 43.53125 35.828125 \nQ 39.65625 40.375 33.015625 40.375 \nz\nM 52.59375 71.296875 \nL 52.59375 62.3125 \nQ 48.875 64.0625 45.09375 64.984375 \nQ 41.3125 65.921875 37.59375 65.921875 \nQ 27.828125 65.921875 22.671875 59.328125 \nQ 17.53125 52.734375 16.796875 39.40625 \nQ 19.671875 43.65625 24.015625 45.921875 \nQ 28.375 48.1875 33.59375 48.1875 \nQ 44.578125 48.1875 50.953125 41.515625 \nQ 57.328125 34.859375 57.328125 23.390625 \nQ 57.328125 12.15625 50.6875 5.359375 \nQ 44.046875 -1.421875 33.015625 -1.421875 \nQ 20.359375 -1.421875 13.671875 8.265625 \nQ 6.984375 17.96875 6.984375 36.375 \nQ 6.984375 53.65625 15.1875 63.9375 \nQ 23.390625 74.21875 37.203125 74.21875 \nQ 40.921875 74.21875 44.703125 73.484375 \nQ 48.484375 72.75 52.59375 71.296875 \nz\n\" id=\"DejaVuSans-54\"/>\n     </defs>\n     <use xlink:href=\"#DejaVuSans-67\"/>\n     <use x=\"69.824219\" xlink:href=\"#DejaVuSans-108\"/>\n     <use x=\"97.607422\" xlink:href=\"#DejaVuSans-97\"/>\n     <use x=\"158.886719\" xlink:href=\"#DejaVuSans-115\"/>\n     <use x=\"210.986328\" xlink:href=\"#DejaVuSans-115\"/>\n     <use x=\"263.085938\" xlink:href=\"#DejaVuSans-58\"/>\n     <use x=\"296.777344\" xlink:href=\"#DejaVuSans-32\"/>\n     <use x=\"328.564453\" xlink:href=\"#DejaVuSans-54\"/>\n    </g>\n   </g>\n  </g>\n  <g id=\"axes_4\">\n   <g clip-path=\"url(#p54e6c39b89)\">\n    <image height=\"48\" id=\"image2b20371eff\" transform=\"scale(1 -1)translate(0 -48)\" width=\"48\" x=\"177.437288\" xlink:href=\"data:image/png;base64,\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\" y=\"-21.606261\"/>\n   </g>\n   <g id=\"text_4\">\n    <!-- Class: 2 -->\n    <g transform=\"translate(177.551043 16.318125)scale(0.12 -0.12)\">\n     <defs>\n      <path d=\"M 19.1875 8.296875 \nL 53.609375 8.296875 \nL 53.609375 0 \nL 7.328125 0 \nL 7.328125 8.296875 \nQ 12.9375 14.109375 22.625 23.890625 \nQ 32.328125 33.6875 34.8125 36.53125 \nQ 39.546875 41.84375 41.421875 45.53125 \nQ 43.3125 49.21875 43.3125 52.78125 \nQ 43.3125 58.59375 39.234375 62.25 \nQ 35.15625 65.921875 28.609375 65.921875 \nQ 23.96875 65.921875 18.8125 64.3125 \nQ 13.671875 62.703125 7.8125 59.421875 \nL 7.8125 69.390625 \nQ 13.765625 71.78125 18.9375 73 \nQ 24.125 74.21875 28.421875 74.21875 \nQ 39.75 74.21875 46.484375 68.546875 \nQ 53.21875 62.890625 53.21875 53.421875 \nQ 53.21875 48.921875 51.53125 44.890625 \nQ 49.859375 40.875 45.40625 35.40625 \nQ 44.1875 33.984375 37.640625 27.21875 \nQ 31.109375 20.453125 19.1875 8.296875 \nz\n\" id=\"DejaVuSans-50\"/>\n     </defs>\n     <use xlink:href=\"#DejaVuSans-67\"/>\n     <use x=\"69.824219\" xlink:href=\"#DejaVuSans-108\"/>\n     <use x=\"97.607422\" xlink:href=\"#DejaVuSans-97\"/>\n     <use x=\"158.886719\" xlink:href=\"#DejaVuSans-115\"/>\n     <use x=\"210.986328\" xlink:href=\"#DejaVuSans-115\"/>\n     <use x=\"263.085938\" xlink:href=\"#DejaVuSans-58\"/>\n     <use x=\"296.777344\" xlink:href=\"#DejaVuSans-32\"/>\n     <use x=\"328.564453\" xlink:href=\"#DejaVuSans-50\"/>\n    </g>\n   </g>\n  </g>\n  <g id=\"axes_5\">\n   <g clip-path=\"url(#p5f6c0b7135)\">\n    <image height=\"48\" id=\"image9136f0f365\" transform=\"scale(1 -1)translate(0 -48)\" width=\"48\" x=\"234.183051\" xlink:href=\"data:image/png;base64,\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\" y=\"-21.606261\"/>\n   </g>\n   <g id=\"text_5\">\n    <!-- Class: 6 -->\n    <g transform=\"translate(234.296806 16.318125)scale(0.12 -0.12)\">\n     <use xlink:href=\"#DejaVuSans-67\"/>\n     <use x=\"69.824219\" xlink:href=\"#DejaVuSans-108\"/>\n     <use x=\"97.607422\" xlink:href=\"#DejaVuSans-97\"/>\n     <use x=\"158.886719\" xlink:href=\"#DejaVuSans-115\"/>\n     <use x=\"210.986328\" xlink:href=\"#DejaVuSans-115\"/>\n     <use x=\"263.085938\" xlink:href=\"#DejaVuSans-58\"/>\n     <use x=\"296.777344\" xlink:href=\"#DejaVuSans-32\"/>\n     <use x=\"328.564453\" xlink:href=\"#DejaVuSans-54\"/>\n    </g>\n   </g>\n  </g>\n  <g id=\"axes_6\">\n   <g clip-path=\"url(#p7af5233548)\">\n    <image height=\"48\" id=\"image566daf5a89\" transform=\"scale(1 -1)translate(0 -48)\" width=\"48\" x=\"290.928814\" xlink:href=\"data:image/png;base64,\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\" y=\"-21.606261\"/>\n   </g>\n   <g id=\"text_6\">\n    <!-- Class: 5 -->\n    <g transform=\"translate(291.042569 16.318125)scale(0.12 -0.12)\">\n     <use xlink:href=\"#DejaVuSans-67\"/>\n     <use x=\"69.824219\" xlink:href=\"#DejaVuSans-108\"/>\n     <use x=\"97.607422\" xlink:href=\"#DejaVuSans-97\"/>\n     <use x=\"158.886719\" xlink:href=\"#DejaVuSans-115\"/>\n     <use x=\"210.986328\" xlink:href=\"#DejaVuSans-115\"/>\n     <use x=\"263.085938\" xlink:href=\"#DejaVuSans-58\"/>\n     <use x=\"296.777344\" xlink:href=\"#DejaVuSans-32\"/>\n     <use x=\"328.564453\" xlink:href=\"#DejaVuSans-53\"/>\n    </g>\n   </g>\n  </g>\n  <g id=\"axes_7\">\n   <g clip-path=\"url(#pe24d125390)\">\n    <image height=\"48\" id=\"image4a1bba2e30\" transform=\"scale(1 -1)translate(0 -48)\" width=\"48\" x=\"347.674576\" xlink:href=\"data:image/png;base64,\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\" y=\"-21.606261\"/>\n   </g>\n   <g id=\"text_7\">\n    <!-- Class: 9 -->\n    <g transform=\"translate(347.788332 16.318125)scale(0.12 -0.12)\">\n     <defs>\n      <path d=\"M 10.984375 1.515625 \nL 10.984375 10.5 \nQ 14.703125 8.734375 18.5 7.8125 \nQ 22.3125 6.890625 25.984375 6.890625 \nQ 35.75 6.890625 40.890625 13.453125 \nQ 46.046875 20.015625 46.78125 33.40625 \nQ 43.953125 29.203125 39.59375 26.953125 \nQ 35.25 24.703125 29.984375 24.703125 \nQ 19.046875 24.703125 12.671875 31.3125 \nQ 6.296875 37.9375 6.296875 49.421875 \nQ 6.296875 60.640625 12.9375 67.421875 \nQ 19.578125 74.21875 30.609375 74.21875 \nQ 43.265625 74.21875 49.921875 64.515625 \nQ 56.59375 54.828125 56.59375 36.375 \nQ 56.59375 19.140625 48.40625 8.859375 \nQ 40.234375 -1.421875 26.421875 -1.421875 \nQ 22.703125 -1.421875 18.890625 -0.6875 \nQ 15.09375 0.046875 10.984375 1.515625 \nz\nM 30.609375 32.421875 \nQ 37.25 32.421875 41.125 36.953125 \nQ 45.015625 41.5 45.015625 49.421875 \nQ 45.015625 57.28125 41.125 61.84375 \nQ 37.25 66.40625 30.609375 66.40625 \nQ 23.96875 66.40625 20.09375 61.84375 \nQ 16.21875 57.28125 16.21875 49.421875 \nQ 16.21875 41.5 20.09375 36.953125 \nQ 23.96875 32.421875 30.609375 32.421875 \nz\n\" id=\"DejaVuSans-57\"/>\n     </defs>\n     <use xlink:href=\"#DejaVuSans-67\"/>\n     <use x=\"69.824219\" xlink:href=\"#DejaVuSans-108\"/>\n     <use x=\"97.607422\" xlink:href=\"#DejaVuSans-97\"/>\n     <use x=\"158.886719\" xlink:href=\"#DejaVuSans-115\"/>\n     <use x=\"210.986328\" xlink:href=\"#DejaVuSans-115\"/>\n     <use x=\"263.085938\" xlink:href=\"#DejaVuSans-58\"/>\n     <use x=\"296.777344\" xlink:href=\"#DejaVuSans-32\"/>\n     <use x=\"328.564453\" xlink:href=\"#DejaVuSans-57\"/>\n    </g>\n   </g>\n  </g>\n  <g id=\"axes_8\">\n   <g clip-path=\"url(#p27b9716b55)\">\n    <image height=\"48\" id=\"image444756182f\" transform=\"scale(1 -1)translate(0 -48)\" width=\"48\" x=\"404.420339\" xlink:href=\"data:image/png;base64,\niVBORw0KGgoAAAANSUhEUgAAADAAAAAwCAYAAABXAvmHAAAEV0lEQVR4nO2YTU/bShSGHzuxY+erWTQhCBEFCUhQA+JDKu0CNrACFl13xQb1d7HurvyAInXRIqSqEmVBEwlIUEipaMSnYxxn7uKqSGladInHcKvySN5k4nnP65k5c2YUIYTgD0a97wC88mDgvnkwcN8EvbzcbDZxHIe9vT0ajQYA4XCYaDRKLBZD13UMw5AS6O/wZKBer1Or1VheXmZnZweA8fFxZmZmmJ2dJZvNMjQ0RDDoSeZGPPUshKDVamFZFhcXFwCUy2U2NjawLItsNksqlSIej6NpmpSAf0b6p6lUKlQqFba2tshkMiwsLBAKhXwz4NsiPjs74/v37zSbTVqtll8y/hmwbZtGo4HruvhZrfzxadSTAUVRUBQFTdN8zTQ34cmAqqoEg0HC4TCmacqK6XYxeHk5EomQTCaZmJigUCigqu3dNZtNtre32dvb8yJzI54MGIZBIpFgeHiYwcFBAoFAW3uz2aRYLFKpVHxbyL5O3Eajwdu3b7Ftm+npaWKxmPTSQkoWUlW1Y/oAuK5LtVqlWq1yfHx8XS/JRIoB0zQxTRNFUdp+dxyHL1++8PnzZzY3N/n69asMuTY8GwgEAhQKBaampsjn8/T09LS1CyH49u0b7969o1qtepXrwLMBVVV5/vw58/PzPH36lEwm0/GfWq3G2toau7u7XuU6kLaI4/E4c3NzuK7Lzs4OlmXhOI6s7n+LtFLCMAwGBwfp6+sjHA63pdQfZbdt21iWJbW4k2bANE3GxsYoFArkcjmi0eh1m+M4nJ6esrm5yZs3b6jX69JMSDOgKAq6rqPrOpqmtWUkIQSu67K7u8uHDx8oFoscHh5K2dzupAITQuA4Duvr67x//x7TNJmamuLFixcdu/dtkV5ODwwMsLS01JFOf9BqtSiVShSLRSnTSLqBvr4+ZmZmSCaTv92dy+Uy5XJZymFHuoFYLEYmk+HZs2fMzs521D5CCA4ODiiVSmxvb1Or1TzpSTegaRqRSITh4WFGR0cxDKPtsCOE4OLignq9TqVSoV6vexMUPuE4jtjf3xdPnjwR8XhcAG1PKpUSKysr4vXr1550fDsTB4NBQqEQiUSCSCTS0X55ecnW1hafPn3i48ePnJycdKfjNdCbCAQCPH78mOPjYw4PD9vazs/P2djYQNd1Hj16dP3cFl9vJaLRKK9eveLly5cMDAx0BCiEwLZtTk9Pu66bfB0BXdeZnJzEtm3S6TSWZXVMFdd1ubq66jqd+joCqqqSTCbJ5XIsLCyQzWbla0jv8WcBVSWRSFAoFBgZGSGXy/3y9NYtd1ILpdNpFhcXCYVC9Pf3s7q6SrValXJeuJOrRUVRCAQCjIyMMD8/T09PD5FIBE3TSCaTjI6OEo/Hu+r7zu4DVVUlm82STqfp7e3l6OgI+Hd08vn8L/eK/4Iiul3+XSKEoFQqYVkWruuSSCRIpVIYhtFVaX3nBmTzd1+v/x94MHDf/PEG/gHZujWJsi84kQAAAABJRU5ErkJggg==\" y=\"-21.606261\"/>\n   </g>\n   <g id=\"text_8\">\n    <!-- Class: 1 -->\n    <g transform=\"translate(404.534094 16.318125)scale(0.12 -0.12)\">\n     <defs>\n      <path d=\"M 12.40625 8.296875 \nL 28.515625 8.296875 \nL 28.515625 63.921875 \nL 10.984375 60.40625 \nL 10.984375 69.390625 \nL 28.421875 72.90625 \nL 38.28125 72.90625 \nL 38.28125 8.296875 \nL 54.390625 8.296875 \nL 54.390625 0 \nL 12.40625 0 \nz\n\" id=\"DejaVuSans-49\"/>\n     </defs>\n     <use xlink:href=\"#DejaVuSans-67\"/>\n     <use x=\"69.824219\" xlink:href=\"#DejaVuSans-108\"/>\n     <use x=\"97.607422\" xlink:href=\"#DejaVuSans-97\"/>\n     <use x=\"158.886719\" xlink:href=\"#DejaVuSans-115\"/>\n     <use x=\"210.986328\" xlink:href=\"#DejaVuSans-115\"/>\n     <use x=\"263.085938\" xlink:href=\"#DejaVuSans-58\"/>\n     <use x=\"296.777344\" xlink:href=\"#DejaVuSans-32\"/>\n     <use x=\"328.564453\" xlink:href=\"#DejaVuSans-49\"/>\n    </g>\n   </g>\n  </g>\n  <g id=\"axes_9\">\n   <g clip-path=\"url(#p047978ace0)\">\n    <image height=\"48\" id=\"imageae29f0fe80\" transform=\"scale(1 -1)translate(0 -48)\" width=\"48\" x=\"461.166102\" xlink:href=\"data:image/png;base64,\niVBORw0KGgoAAAANSUhEUgAAADAAAAAwCAYAAABXAvmHAAAHsklEQVR4nO2ZzWtTWxeHn3OSnDRJ0yRHoy21WtOPpK2JClqlKiJ6QfxEcFSciOj/4cCh4EhwrogDceJERbEg0apUi0StSattmn6lJm3SfCdnvwOv4X15vVz1HG+54G8YzsleT9bea/32iiSEEPyLJa92AHr1G2C1ZTbiS4QQaJpGtVpFCIEQAkmSkCQJk8mELMvI8q/5rXQDCCEYHx8nGo1y7do1MpkM2WwWp9OJ2+3m2LFjtLe3s337dux2O1ar1Yi469IFoGkalUqFDx8+8ObNG0ZHRykWi5TLZWw2G06nk9bWVpaXl7HZbGzYsAGv14vVakWSJEMAJD1lNJfLkU6nOXv2LJFIhGq1Snt7O4FAgIWFBZaWlohEItjtdnw+H4ODgxw6dIjNmzfT0NBgCICuDFQqFQqFAtlsFiEEW7ZsIRgMsnPnTjKZDEtLSzidTlKpFDMzM4yMjGAymfB4PKxbt86Qc6ELoFwuk8/nyefzKIrCvn372Lt3L3/88QfVapVMJoOqqjx//pzr168zNDTEp0+f2LdvH6qqoijK6gLY7XbcbjdWqxVZlimXy1SrVQBMJhNOp5PDhw/T0dGBx+NheHiY9+/f8+TJE5aXlxkYGNCdBV0AJpMJRVH+J4ivR0qSJCwWC+3t7SiKwvLyMu/evSOVShGLxXC5XOzevVs3gK63a7Ua5XIZTdMwm82sXbsWp9P5f885nU56e3tRVZVqtUo4HCYcDqNpmp7lAZ0AsixjNpuRZZlKpcLHjx+ZnZ0ln89Tq9Xqz2maRrFYrG8vq9VqyP4HnQCKomC32+tb5Pbt24TDYWZnZymVSvXn8vk8k5OTZDIZZFnG5/Ph8/kMqUK6M9DQ0MD+/fvZu3cv+XyeDx8+8PDhQ5LJZN1izM3N8eDBA6anpzGZTHR1ddHV1WVIM9MNYLFY2LFjB9u2baNUKjE1NcWzZ89IJpOUy2XK5TLJZJLh4WGSySSKorBp0yY2bty4+n0AvlSiYDBIrVajqamJRCLB3bt3sdvt+P1+XC4Xo6OjjI2NEQwG6enpYfv27bS3txuSAd0AkiTh8XhYv349mzdvJpFIkEgkePv2LblcDpfLxdTUFJqm0dLSUq9GNptNd/AACIO0uLgobt68Kc6cOSMAYTabhcViEYqiCFVVxdatW8WVK1dENBoVxWLRqGWFYSbdZrMRCATo7e2lr68Pm81GpVKhXC4jyzJutxtVVVFVFbPZkGsIYNCFBr7YilAoRDKZZGJigpWVFbLZLAAWiwVVVVmzZg2qqhq1JGAgAHyxEdlslunpaQqFQv3zdDrNs2fPaGpqYnJykqNHj+L1eg05B4YBaJpGPp8nm82SSqXQNK3e6IQQfP78mUgkQq1WY+vWrZjN5rqP0lONDANYWlri/v37DA0NEYlE8Hq9+Hw+zp07x+zsLHfu3GF6epqxsTGKxSLBYJDz58/T1NSEw+FYXYBcLsfCwgIjIyN8+vSJUqmEz+fD7/fT29vL+vXrSaVSvHr1ilgsxtTUFADhcJjOzk56enrqnuqHpbeMaZomxsbGxK1bt0Rzc7NwOBxCkiRx5coV8ebNG1Eul0WlUhGZTEZcvXpVHD9+XHg8HtHY2ChCoZC4ePGiWFhYEKVS6afW150BTdOYmJhgfHycfD6PqqoEg0E6OjpoaWnBZDIhSRINDQ3s2bOHlpYWXC4X8XicWCzGo0ePSKVSnD59mkAggKqqP5QJQwASiQTxeJxisVgfobS1taGqav2AWiwWQqEQPT09LC4u8vr1a0ZHRxkZGeH169d0d3fjdrtxOBwoioLJZPr1ALVajWKxyPv37xkfH8dmsxEKhRgcHKStre2b1cVsNnPy5En6+vqIx+NEo1Gi0SiXL1/m+vXrHDlyhFAoxIkTJ349gPjTLi8uLpJKpeoTh02bNv1ljZckCa/XS6FQYOPGjSSTSarVKvF4nHQ6TSAQoLm5+btj0G0lNE0jFosRi8WwWCy43W42bNjwt02qsbGRgYEBOjo6vgTy575fWVkhn89/9/q6J3O1Wo1qtUqtVqNUKrGyskIqlaKpqQmLxfLN9yqVCktLS7x8+bJeUgcGBujq6qK/v5/Ozs5/DuDrQLdarVKpVEin08zMzKAoyl8ClEol5ufnuXfvHvPz80iSxKlTpzh48CDd3d0/ZPZ0ASiKgtPpZP/+/bhcLh4/fkwkEuHGjRucOHGCzs5O1q5di6Zp5HI54vE48/Pz3L9/n1gsxvT0NB6PB7/fj9/vp62t7burjyEAsixjtVoJBAIUCgWePn3K58+fGRkZIRAIYLFY6ltseXmZaDTK5OQkQ0NDzMzMoGkaqqrWu/W3RjJ/J13D3a/KZDLEYjEuXbrExMQEsVgMh8NBQ0MDqqoihCCXy7GyskKhUKBYLLJmzRqOHz/Orl27OHDgAOvWrfspd2qIF2psbKS5uZk9e/bULyypVIpSqUQikUCWZRRFQQiB1WrF7/fT2tpKf38/fr8fr9f703MiQzLw33r37h0vXrzg6dOnfPz4kXA4jMPhYMuWLcCXjnzhwgU6Ozvp7e3VPZkwHCCdTjM3N8fs7CyZTKZekb7aClmWCQaD9SumXhkO8E/rX/8v5W+A1dZvgNXWb4DV1n8A0fBwaPKm/1cAAAAASUVORK5CYII=\" y=\"-21.606261\"/>\n   </g>\n   <g id=\"text_9\">\n    <!-- Class: 8 -->\n    <g transform=\"translate(461.279857 16.318125)scale(0.12 -0.12)\">\n     <defs>\n      <path d=\"M 31.78125 34.625 \nQ 24.75 34.625 20.71875 30.859375 \nQ 16.703125 27.09375 16.703125 20.515625 \nQ 16.703125 13.921875 20.71875 10.15625 \nQ 24.75 6.390625 31.78125 6.390625 \nQ 38.8125 6.390625 42.859375 10.171875 \nQ 46.921875 13.96875 46.921875 20.515625 \nQ 46.921875 27.09375 42.890625 30.859375 \nQ 38.875 34.625 31.78125 34.625 \nz\nM 21.921875 38.8125 \nQ 15.578125 40.375 12.03125 44.71875 \nQ 8.5 49.078125 8.5 55.328125 \nQ 8.5 64.0625 14.71875 69.140625 \nQ 20.953125 74.21875 31.78125 74.21875 \nQ 42.671875 74.21875 48.875 69.140625 \nQ 55.078125 64.0625 55.078125 55.328125 \nQ 55.078125 49.078125 51.53125 44.71875 \nQ 48 40.375 41.703125 38.8125 \nQ 48.828125 37.15625 52.796875 32.3125 \nQ 56.78125 27.484375 56.78125 20.515625 \nQ 56.78125 9.90625 50.3125 4.234375 \nQ 43.84375 -1.421875 31.78125 -1.421875 \nQ 19.734375 -1.421875 13.25 4.234375 \nQ 6.78125 9.90625 6.78125 20.515625 \nQ 6.78125 27.484375 10.78125 32.3125 \nQ 14.796875 37.15625 21.921875 38.8125 \nz\nM 18.3125 54.390625 \nQ 18.3125 48.734375 21.84375 45.5625 \nQ 25.390625 42.390625 31.78125 42.390625 \nQ 38.140625 42.390625 41.71875 45.5625 \nQ 45.3125 48.734375 45.3125 54.390625 \nQ 45.3125 60.0625 41.71875 63.234375 \nQ 38.140625 66.40625 31.78125 66.40625 \nQ 25.390625 66.40625 21.84375 63.234375 \nQ 18.3125 60.0625 18.3125 54.390625 \nz\n\" id=\"DejaVuSans-56\"/>\n     </defs>\n     <use xlink:href=\"#DejaVuSans-67\"/>\n     <use x=\"69.824219\" xlink:href=\"#DejaVuSans-108\"/>\n     <use x=\"97.607422\" xlink:href=\"#DejaVuSans-97\"/>\n     <use x=\"158.886719\" xlink:href=\"#DejaVuSans-115\"/>\n     <use x=\"210.986328\" xlink:href=\"#DejaVuSans-115\"/>\n     <use x=\"263.085938\" xlink:href=\"#DejaVuSans-58\"/>\n     <use x=\"296.777344\" xlink:href=\"#DejaVuSans-32\"/>\n     <use x=\"328.564453\" xlink:href=\"#DejaVuSans-56\"/>\n    </g>\n   </g>\n  </g>\n  <g id=\"axes_10\">\n   <g clip-path=\"url(#p184e12dbc1)\">\n    <image height=\"48\" id=\"image4088cd94d9\" transform=\"scale(1 -1)translate(0 -48)\" width=\"48\" x=\"517.911864\" xlink:href=\"data:image/png;base64,\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\" y=\"-21.606261\"/>\n   </g>\n   <g id=\"text_10\">\n    <!-- Class: 3 -->\n    <g transform=\"translate(518.02562 16.318125)scale(0.12 -0.12)\">\n     <defs>\n      <path d=\"M 40.578125 39.3125 \nQ 47.65625 37.796875 51.625 33 \nQ 55.609375 28.21875 55.609375 21.1875 \nQ 55.609375 10.40625 48.1875 4.484375 \nQ 40.765625 -1.421875 27.09375 -1.421875 \nQ 22.515625 -1.421875 17.65625 -0.515625 \nQ 12.796875 0.390625 7.625 2.203125 \nL 7.625 11.71875 \nQ 11.71875 9.328125 16.59375 8.109375 \nQ 21.484375 6.890625 26.8125 6.890625 \nQ 36.078125 6.890625 40.9375 10.546875 \nQ 45.796875 14.203125 45.796875 21.1875 \nQ 45.796875 27.640625 41.28125 31.265625 \nQ 36.765625 34.90625 28.71875 34.90625 \nL 20.21875 34.90625 \nL 20.21875 43.015625 \nL 29.109375 43.015625 \nQ 36.375 43.015625 40.234375 45.921875 \nQ 44.09375 48.828125 44.09375 54.296875 \nQ 44.09375 59.90625 40.109375 62.90625 \nQ 36.140625 65.921875 28.71875 65.921875 \nQ 24.65625 65.921875 20.015625 65.03125 \nQ 15.375 64.15625 9.8125 62.3125 \nL 9.8125 71.09375 \nQ 15.4375 72.65625 20.34375 73.4375 \nQ 25.25 74.21875 29.59375 74.21875 \nQ 40.828125 74.21875 47.359375 69.109375 \nQ 53.90625 64.015625 53.90625 55.328125 \nQ 53.90625 49.265625 50.4375 45.09375 \nQ 46.96875 40.921875 40.578125 39.3125 \nz\n\" id=\"DejaVuSans-51\"/>\n     </defs>\n     <use xlink:href=\"#DejaVuSans-67\"/>\n     <use x=\"69.824219\" xlink:href=\"#DejaVuSans-108\"/>\n     <use x=\"97.607422\" xlink:href=\"#DejaVuSans-97\"/>\n     <use x=\"158.886719\" xlink:href=\"#DejaVuSans-115\"/>\n     <use x=\"210.986328\" xlink:href=\"#DejaVuSans-115\"/>\n     <use x=\"263.085938\" xlink:href=\"#DejaVuSans-58\"/>\n     <use x=\"296.777344\" xlink:href=\"#DejaVuSans-32\"/>\n     <use x=\"328.564453\" xlink:href=\"#DejaVuSans-51\"/>\n    </g>\n   </g>\n  </g>\n </g>\n <defs>\n  <clipPath id=\"p7dd2eb819c\">\n   <rect height=\"47.288136\" width=\"47.288136\" x=\"7.2\" y=\"22.318125\"/>\n  </clipPath>\n  <clipPath id=\"p3c38777c36\">\n   <rect height=\"47.288136\" width=\"47.288136\" x=\"63.945763\" y=\"22.318125\"/>\n  </clipPath>\n  <clipPath id=\"pff88d94f90\">\n   <rect height=\"47.288136\" width=\"47.288136\" x=\"120.691525\" y=\"22.318125\"/>\n  </clipPath>\n  <clipPath id=\"p54e6c39b89\">\n   <rect height=\"47.288136\" width=\"47.288136\" x=\"177.437288\" y=\"22.318125\"/>\n  </clipPath>\n  <clipPath id=\"p5f6c0b7135\">\n   <rect height=\"47.288136\" width=\"47.288136\" x=\"234.183051\" y=\"22.318125\"/>\n  </clipPath>\n  <clipPath id=\"p7af5233548\">\n   <rect height=\"47.288136\" width=\"47.288136\" x=\"290.928814\" y=\"22.318125\"/>\n  </clipPath>\n  <clipPath id=\"pe24d125390\">\n   <rect height=\"47.288136\" width=\"47.288136\" x=\"347.674576\" y=\"22.318125\"/>\n  </clipPath>\n  <clipPath id=\"p27b9716b55\">\n   <rect height=\"47.288136\" width=\"47.288136\" x=\"404.420339\" y=\"22.318125\"/>\n  </clipPath>\n  <clipPath id=\"p047978ace0\">\n   <rect height=\"47.288136\" width=\"47.288136\" x=\"461.166102\" y=\"22.318125\"/>\n  </clipPath>\n  <clipPath id=\"p184e12dbc1\">\n   <rect height=\"47.288136\" width=\"47.288136\" x=\"517.911864\" y=\"22.318125\"/>\n  </clipPath>\n </defs>\n</svg>\n",
      "image/png": "[encoded data removed]"
     },
     "metadata": {
      "needs_background": "light"
     }
    }
   ],
   "source": [
    "pltsize = 1\n",
    "plt.figure(figsize=(10 * pltsize, pltsize))\n",
    "for i in range(10):\n",
    "    plt.subplot(1, 10, i + 1)\n",
    "    plt.axis('off')\n",
    "    plt.imshow(X_train[i, :, :, :].numpy().reshape(28, 28), cmap = \"gray_r\")\n",
    "    plt.title('Class: ' + str(y_train[i].item()))\n",
    "\n"
   ]
  },
  {
   "source": [
    "## 2. Construct Quantum Circuit"
   ],
   "cell_type": "markdown",
   "metadata": {}
  },
  {
   "source": [
    "### 2-1. Create a 'Quantum Class' with Qiskit"
   ],
   "cell_type": "markdown",
   "metadata": {}
  },
  {
   "cell_type": "code",
   "execution_count": 14,
   "metadata": {},
   "outputs": [],
   "source": [
    "def generate_random_circuit(circ, n_qubit, depth):\n",
    "\n",
    "    for i in range(n_qubit):\n",
    "        circ.ry(np.pi/4, i)\n",
    "\n",
    "    for d in range(depth):\n",
    "        # add random single qubit gates\n",
    "        for qubit in range(n_qubit):\n",
    "            random_n   = np.random.randint(0, 8)\n",
    "            random_rot = np.random.uniform(0, 2*np.pi)\n",
    "\n",
    "            if random_n == 0:\n",
    "                circ.rx(random_rot, qubit)\n",
    "            elif random_n == 1:\n",
    "                circ.ry(random_rot, qubit)\n",
    "            elif random_n == 2:\n",
    "                circ.rz(random_rot, qubit)\n",
    "            elif random_n == 3:\n",
    "                circ.h(qubit)\n",
    "            else:\n",
    "                pass\n",
    "        \n",
    "        # add random double qubit gates\n",
    "        for src, dst in combinations(range(n_qubit), 2):\n",
    "            random_n = np.random.randint(0, 6)\n",
    "\n",
    "            if random_n == 0:\n",
    "                circ.cx(src, dst)\n",
    "            elif random_n == 1:\n",
    "                circ.cx(dst, src)\n",
    "            elif random_n == 2:\n",
    "                circ.swap(src, dst)\n",
    "            else:\n",
    "                pass\n",
    "\n",
    "    return circ\n",
    "'''\n",
    "def function_builder(num):\n",
    "    def function():\n",
    "        qiskit.circuit.Parameter(f'theta{num}') \n",
    "    return function\n",
    "    '''"
   ]
  },
  {
   "cell_type": "code",
   "execution_count": 34,
   "metadata": {},
   "outputs": [],
   "source": [
    "class QuanvCircuit:\n",
    "    \"\"\" \n",
    "    This class provides a simple interface for interaction \n",
    "    with the quantum circuit \n",
    "    \"\"\"\n",
    "    \n",
    "    def __init__(self, n_qubits, backend, shots, threshold):\n",
    "        # --- Circuit definition ---\n",
    "        self._circuit = qiskit.QuantumCircuit(n_qubits)\n",
    "        param_theta = {}\n",
    "        \n",
    "        for i in range(n_qubits):\n",
    "            # param_theta[i] = function_builder(i)\n",
    "            self._circuit.rx(qiskit.circuit.Parameter(f'theta{i}'), i)\n",
    "        \n",
    "        self._circuit.barrier()\n",
    "\n",
    "        self._circuit = generate_random_circuit(self._circuit, n_qubits, 2)\n",
    "\n",
    "        self._circuit.barrier()\n",
    "\n",
    "        self._circuit.measure_all()\n",
    "        # ---------------------------\n",
    "\n",
    "        self.backend = backend\n",
    "        self.shots = shots\n",
    "        self.threshold = threshold\n",
    "    \n",
    "    '''\n",
    "    def run(self, thetas):\n",
    "        job = qiskit.execute(self._circuit, \n",
    "                             self.backend, \n",
    "                             shots = self.shots,\n",
    "                             parameter_binds = [{self.theta: theta} for theta in thetas])\n",
    "        result = job.result().get_counts(self._circuit)\n",
    "        \n",
    "        counts = np.array(list(result.values()))\n",
    "        states = np.array(list(result.keys())).astype(float)\n",
    "        \n",
    "        # Compute probabilities for each state\n",
    "        probabilities = counts / self.shots\n",
    "        # Get state expectation\n",
    "        expectation = np.sum(states * probabilities)\n",
    "        \n",
    "        return np.array([expectation])\n",
    "'''\n",
    "    def run(self, data):\n",
    "        # val > self.threshold  : |1> - rx(pi)\n",
    "        # val <= self.threshold : |0> - rx(0)\n",
    "        thetas = []\n",
    "        for dat in data:\n",
    "            theta = []\n",
    "            for val in dat:\n",
    "                if val > self.threshold:\n",
    "                    theta.append(np.pi)\n",
    "                else:\n",
    "                    theta.append(0)\n",
    "            thetas.append(theta)\n",
    "        \n",
    "        param_binds = [0 for i in len(thetas)]\n",
    "        for a in len(thetas):\n",
    "            param_binds[a] = {param_theta[0]: thetas[a][0]}\n",
    "            for b in range(1, n_qubits):\n",
    "                param_binds[a][qiskit.circuit.Parameter(f'theta{b}')] = thetas[a][b]\n",
    "            \n",
    "        job = qiskit.execute(self._circuit, \n",
    "                             self.backend, \n",
    "                             shots = self.shots, \n",
    "                             parameter_binds = param_binds)\n",
    "        result = job.result().get_counts(self._circuit)\n",
    "\n",
    "        counts = 0\n",
    "        for key, val in result.items():\n",
    "            cnt = sum([int(char) for char in key])\n",
    "            counts += cnt * val\n",
    "\n",
    "        # Compute probabilities for each state\n",
    "        probabilities = counts / self.shots\n",
    "        \n",
    "        return np.array([probabilities])"
   ]
  },
  {
   "source": [
    "Let's test the implementation."
   ],
   "cell_type": "markdown",
   "metadata": {}
  },
  {
   "cell_type": "code",
   "execution_count": 35,
   "metadata": {},
   "outputs": [
    {
     "output_type": "error",
     "ename": "NameError",
     "evalue": "name 'combinations' is not defined",
     "traceback": [
      "\u001b[0;31m---------------------------------------------------------------------------\u001b[0m",
      "\u001b[0;31mNameError\u001b[0m                                 Traceback (most recent call last)",
      "\u001b[0;32m<ipython-input-35-ee44bb594fac>\u001b[0m in \u001b[0;36m<module>\u001b[0;34m\u001b[0m\n\u001b[1;32m      1\u001b[0m \u001b[0mbackend\u001b[0m \u001b[0;34m=\u001b[0m \u001b[0mqiskit\u001b[0m\u001b[0;34m.\u001b[0m\u001b[0mAer\u001b[0m\u001b[0;34m.\u001b[0m\u001b[0mget_backend\u001b[0m\u001b[0;34m(\u001b[0m\u001b[0;34m'qasm_simulator'\u001b[0m\u001b[0;34m)\u001b[0m\u001b[0;34m\u001b[0m\u001b[0;34m\u001b[0m\u001b[0m\n\u001b[1;32m      2\u001b[0m \u001b[0mn_qubits\u001b[0m \u001b[0;34m=\u001b[0m \u001b[0;36m4\u001b[0m\u001b[0;34m\u001b[0m\u001b[0;34m\u001b[0m\u001b[0m\n\u001b[0;32m----> 3\u001b[0;31m \u001b[0mcirc\u001b[0m \u001b[0;34m=\u001b[0m \u001b[0mQuanvCircuit\u001b[0m\u001b[0;34m(\u001b[0m\u001b[0mn_qubits\u001b[0m\u001b[0;34m,\u001b[0m \u001b[0mbackend\u001b[0m\u001b[0;34m,\u001b[0m \u001b[0;36m100\u001b[0m\u001b[0;34m,\u001b[0m \u001b[0;36m127\u001b[0m\u001b[0;34m)\u001b[0m\u001b[0;34m\u001b[0m\u001b[0;34m\u001b[0m\u001b[0m\n\u001b[0m\u001b[1;32m      4\u001b[0m \u001b[0;34m\u001b[0m\u001b[0m\n\u001b[1;32m      5\u001b[0m \u001b[0mdata\u001b[0m \u001b[0;34m=\u001b[0m \u001b[0mtorch\u001b[0m\u001b[0;34m.\u001b[0m\u001b[0mtensor\u001b[0m\u001b[0;34m(\u001b[0m\u001b[0;34m[\u001b[0m\u001b[0;34m[\u001b[0m\u001b[0;36m0\u001b[0m\u001b[0;34m,\u001b[0m \u001b[0;36m0\u001b[0m\u001b[0;34m,\u001b[0m \u001b[0;36m0\u001b[0m\u001b[0;34m,\u001b[0m \u001b[0;36m255\u001b[0m\u001b[0;34m]\u001b[0m\u001b[0;34m]\u001b[0m\u001b[0;34m)\u001b[0m\u001b[0;34m\u001b[0m\u001b[0;34m\u001b[0m\u001b[0m\n",
      "\u001b[0;32m<ipython-input-34-561c5239039c>\u001b[0m in \u001b[0;36m__init__\u001b[0;34m(self, n_qubits, backend, shots, threshold)\u001b[0m\n\u001b[1;32m     16\u001b[0m         \u001b[0mself\u001b[0m\u001b[0;34m.\u001b[0m\u001b[0m_circuit\u001b[0m\u001b[0;34m.\u001b[0m\u001b[0mbarrier\u001b[0m\u001b[0;34m(\u001b[0m\u001b[0;34m)\u001b[0m\u001b[0;34m\u001b[0m\u001b[0;34m\u001b[0m\u001b[0m\n\u001b[1;32m     17\u001b[0m \u001b[0;34m\u001b[0m\u001b[0m\n\u001b[0;32m---> 18\u001b[0;31m         \u001b[0mself\u001b[0m\u001b[0;34m.\u001b[0m\u001b[0m_circuit\u001b[0m \u001b[0;34m=\u001b[0m \u001b[0mgenerate_random_circuit\u001b[0m\u001b[0;34m(\u001b[0m\u001b[0mself\u001b[0m\u001b[0;34m.\u001b[0m\u001b[0m_circuit\u001b[0m\u001b[0;34m,\u001b[0m \u001b[0mn_qubits\u001b[0m\u001b[0;34m,\u001b[0m \u001b[0;36m2\u001b[0m\u001b[0;34m)\u001b[0m\u001b[0;34m\u001b[0m\u001b[0;34m\u001b[0m\u001b[0m\n\u001b[0m\u001b[1;32m     19\u001b[0m \u001b[0;34m\u001b[0m\u001b[0m\n\u001b[1;32m     20\u001b[0m         \u001b[0mself\u001b[0m\u001b[0;34m.\u001b[0m\u001b[0m_circuit\u001b[0m\u001b[0;34m.\u001b[0m\u001b[0mbarrier\u001b[0m\u001b[0;34m(\u001b[0m\u001b[0;34m)\u001b[0m\u001b[0;34m\u001b[0m\u001b[0;34m\u001b[0m\u001b[0m\n",
      "\u001b[0;32m<ipython-input-14-67aa4fb341ab>\u001b[0m in \u001b[0;36mgenerate_random_circuit\u001b[0;34m(circ, n_qubit, depth)\u001b[0m\n\u001b[1;32m     22\u001b[0m \u001b[0;34m\u001b[0m\u001b[0m\n\u001b[1;32m     23\u001b[0m         \u001b[0;31m# add random double qubit gates\u001b[0m\u001b[0;34m\u001b[0m\u001b[0;34m\u001b[0m\u001b[0;34m\u001b[0m\u001b[0m\n\u001b[0;32m---> 24\u001b[0;31m         \u001b[0;32mfor\u001b[0m \u001b[0msrc\u001b[0m\u001b[0;34m,\u001b[0m \u001b[0mdst\u001b[0m \u001b[0;32min\u001b[0m \u001b[0mcombinations\u001b[0m\u001b[0;34m(\u001b[0m\u001b[0mrange\u001b[0m\u001b[0;34m(\u001b[0m\u001b[0mn_qubit\u001b[0m\u001b[0;34m)\u001b[0m\u001b[0;34m,\u001b[0m \u001b[0;36m2\u001b[0m\u001b[0;34m)\u001b[0m\u001b[0;34m:\u001b[0m\u001b[0;34m\u001b[0m\u001b[0;34m\u001b[0m\u001b[0m\n\u001b[0m\u001b[1;32m     25\u001b[0m             \u001b[0mrandom_n\u001b[0m \u001b[0;34m=\u001b[0m \u001b[0mnp\u001b[0m\u001b[0;34m.\u001b[0m\u001b[0mrandom\u001b[0m\u001b[0;34m.\u001b[0m\u001b[0mrandint\u001b[0m\u001b[0;34m(\u001b[0m\u001b[0;36m0\u001b[0m\u001b[0;34m,\u001b[0m \u001b[0;36m6\u001b[0m\u001b[0;34m)\u001b[0m\u001b[0;34m\u001b[0m\u001b[0;34m\u001b[0m\u001b[0m\n\u001b[1;32m     26\u001b[0m \u001b[0;34m\u001b[0m\u001b[0m\n",
      "\u001b[0;31mNameError\u001b[0m: name 'combinations' is not defined"
     ]
    }
   ],
   "source": [
    "backend = qiskit.Aer.get_backend('qasm_simulator')\n",
    "n_qubits = 4\n",
    "circ = QuanvCircuit(n_qubits, backend, 100, 127)\n",
    "\n",
    "data = torch.tensor([[0, 0, 0, 255]])\n",
    "\n",
    "print(circ.run(data))\n",
    "\n",
    "circ._circuit.draw(output='mpl')"
   ]
  },
  {
   "source": [
    "### 2-2. Create a 'Quanvolution Class' with PyTorch"
   ],
   "cell_type": "markdown",
   "metadata": {}
  },
  {
   "cell_type": "code",
   "execution_count": null,
   "metadata": {},
   "outputs": [],
   "source": [
    "def quanv_feed(image):\n",
    "    \"\"\"\n",
    "    Convolves the input image with many applications \n",
    "    of the same quantum circuit.\n",
    "\n",
    "    In the standard language of CNN, this would correspond to\n",
    "    a convolution with a 5×5 kernel and a stride equal to 1.\n",
    "    \"\"\"\n",
    "    out = np.zeros((24, 24, 25))\n",
    "\n",
    "    # Loop over the coordinates of the top-left pixel of 5X5 squares\n",
    "    for j in range(24):\n",
    "        for k in range(24):\n",
    "            # Process a squared 5x5 region of the image with a quantum circuit\n",
    "            circuit_input = []\n",
    "            for a in range(5):\n",
    "                for b in range(5):\n",
    "                    circuit_input.append(image[j + a, k + b, 0])\n",
    "            q_results = circuit(circuit_input)\n",
    "\n",
    "            # Assign expectation values to different channels of the output pixel (j/2, k/2)\n",
    "            for c in range(25):\n",
    "                out[24, 24, c] = q_results[c]\n",
    "    return out"
   ]
  },
  {
   "cell_type": "code",
   "execution_count": null,
   "metadata": {},
   "outputs": [],
   "source": [
    "class HybridFunction(Function):\n",
    "    \"\"\" Hybrid quantum - classical function definition \"\"\"\n",
    "    \n",
    "    @staticmethod\n",
    "    def forward(ctx, inputs, quantum_circuit, shift):\n",
    "        \"\"\" Forward pass computation \"\"\"\n",
    "        ctx.shift = shift\n",
    "        ctx.quantum_circuit = quantum_circuit\n",
    "\n",
    "        expectation_z = []\n",
    "        for input in inputs:\n",
    "            expectation_z.append(ctx.quantum_circuit.run(input.tolist()))\n",
    "        result = torch.tensor(expectation_z)\n",
    "        \n",
    "        ctx.save_for_backward(inputs, result)\n",
    "        return result\n",
    "        \n",
    "    @staticmethod\n",
    "    def backward(ctx, grad_output):\n",
    "        \"\"\" Backward pass computation \"\"\"\n",
    "        input, expectation_z = ctx.saved_tensors\n",
    "        input_list = np.array(input.tolist())\n",
    "        \n",
    "        shift_right = input_list + np.ones(input_list.shape) * ctx.shift\n",
    "        shift_left = input_list - np.ones(input_list.shape) * ctx.shift\n",
    "        \n",
    "        gradients = []\n",
    "        for i in range(len(input_list)):\n",
    "            expectation_right = ctx.quantum_circuit.run(shift_right[i])\n",
    "            expectation_left  = ctx.quantum_circuit.run(shift_left[i])\n",
    "            \n",
    "            gradient = torch.tensor([expectation_right]) - torch.tensor([expectation_left])\n",
    "            gradients.append(gradient)\n",
    "        gradients = np.array([gradients]).T\n",
    "        return torch.tensor([gradients]).float() * grad_output.float(), None, None\n",
    "\n",
    "\n",
    "class Quanv(nn.Module):\n",
    "    \"\"\" Quanvolution(Quantum convolution) layer definition \"\"\"\n",
    "    \n",
    "    def __init__(self, backend, shots, shift):\n",
    "        super(Hybrid, self).__init__()\n",
    "        self.quantum_circuit = QuantumCircuit(5*5, backend, shots)\n",
    "        self.shift = shift\n",
    "        \n",
    "    def forward(self, input):\n",
    "        return HybridFunction.apply(input, self.quantum_circuit, self.shift)\n"
   ]
  },
  {
   "cell_type": "code",
   "execution_count": null,
   "metadata": {},
   "outputs": [],
   "source": [
    "class Net(nn.Module):\n",
    "    def __init__(self):\n",
    "        super(Net, self).__init__()\n",
    "        self.conv1 = nn.Conv2d(1, 6, kernel_size=5) # <- Quanv!!!!\n",
    "        self.conv2 = nn.Conv2d(6, 16, kernel_size=5)\n",
    "        self.dropout = nn.Dropout2d()\n",
    "        self.fc1 = nn.Linear(256, 64)\n",
    "        self.fc2 = nn.Linear(64, 10)\n",
    "\n",
    "    def forward(self, x):\n",
    "        x = F.relu(self.conv1(x))\n",
    "        x = F.max_pool2d(x, 2)\n",
    "        x = F.relu(self.conv2(x))\n",
    "        x = F.max_pool2d(x, 2)\n",
    "        x = self.dropout(x)\n",
    "        # x = x.view(-1, 256)\n",
    "        x = torch.flatten(x, start_dim=1)\n",
    "        x = F.relu(self.fc1(x))\n",
    "        x = self.fc2(x)\n",
    "        return F.softmax(x)"
   ]
  }
 ],
 "metadata": {
  "kernelspec": {
   "display_name": "Qiskit",
   "language": "python",
   "name": "qiskit"
  },
  "language_info": {
   "codemirror_mode": {
    "name": "ipython",
    "version": 3
   },
   "file_extension": ".py",
   "mimetype": "text/x-python",
   "name": "python",
   "nbconvert_exporter": "python",
   "pygments_lexer": "ipython3",
   "version": "3.8.5-final"
  }
 },
 "nbformat": 4,
 "nbformat_minor": 5
}